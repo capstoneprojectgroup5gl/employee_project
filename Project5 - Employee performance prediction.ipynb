{
 "cells": [
  {
   "cell_type": "markdown",
   "metadata": {},
   "source": [
    "## Project5 - Employee performance analysis"
   ]
  },
  {
   "cell_type": "markdown",
   "metadata": {},
   "source": [
    "__Objective__: The performance of various employees in an organisation varies and so is the probability of each employee getting promoted. Not getting promoted could have a direct bearing against employee attrition and hence the HR department would like to know the probablity that an employee will get promoted. <br>\n",
    "    The objective of this project is to predict whether an employee will get promoted or not and also understand the factors which impact the promotion."
   ]
  },
  {
   "cell_type": "markdown",
   "metadata": {},
   "source": [
    "# About the dataset\n",
    "The dataset consists of the following information of 54808 employees:\n",
    "<br>__employee_id:__ Unique employee ID\n",
    "<br>__department:__ Department in which the employee works\n",
    "<br>__region:__ Employee region\n",
    "<br>__education:__ Education level of the employee\n",
    "<br>__gender:__ Gender of the employee\n",
    "<br>__recruitment_channel:__ Channel through which employee was recruited\n",
    "<br>__no_of_trainings:__ # of training programs the employee has undergone\n",
    "<br>__age:__ Age of the employee\n",
    "<br>__previous_year_rating:__ Performance rating of the employee in the previous year\n",
    "<br>__length_of_service:__ Experience of the employee\n",
    "<br>__KPIs_met >80%:__ Has the employee met more than 80% of the KPIs. 0-No;1-Yes\n",
    "<br>__awards_won:__ Has the employee won any awards? 0-No;1-Yes\n",
    "<br>__avg_training_score:__ Average training score of the employee\n",
    "<br>__is_promoted:__ Y variable - 0-Not promoted; 1-Promoted\n"
   ]
  },
  {
   "cell_type": "markdown",
   "metadata": {},
   "source": [
    "## Project instructions\n",
    "1.\tPerform the required data pre-processing to treat for missing values and outliers\n",
    "2.\tPerform exploratory data analysis to visualise the spread of each of the X variables and the relationship between the various X variables and the Y variable\n",
    "3.\tUse the data provided to create employee segments using clustering and visually explore the % of employees promoted in each segment.\n",
    "4. Divide the given data into train and test sets\n",
    "5.\tBuild a model to predict whether an employee will get promoted or not\n",
    "6.\tEvaluate the model based on model performance measures for classification and recommend the most suitable model.\n",
    "7.\tCome up with recommendations / actionable insights based on feature importance scores derived from the model."
   ]
  },
  {
   "cell_type": "markdown",
   "metadata": {},
   "source": [
    "### Importing necessary libraries"
   ]
  },
  {
   "cell_type": "code",
   "execution_count": 1,
   "metadata": {},
   "outputs": [],
   "source": [
    "import pandas as pd\n",
    "import numpy as np\n",
    "import matplotlib.pyplot as plt\n",
    "import seaborn as sns\n",
    "import scipy.stats as stats\n",
    "import warnings\n",
    "warnings.filterwarnings('ignore')"
   ]
  },
  {
   "cell_type": "markdown",
   "metadata": {},
   "source": [
    "### Importing the data"
   ]
  },
  {
   "cell_type": "code",
   "execution_count": 2,
   "metadata": {},
   "outputs": [
    {
     "data": {
      "text/html": [
       "<div>\n",
       "<style scoped>\n",
       "    .dataframe tbody tr th:only-of-type {\n",
       "        vertical-align: middle;\n",
       "    }\n",
       "\n",
       "    .dataframe tbody tr th {\n",
       "        vertical-align: top;\n",
       "    }\n",
       "\n",
       "    .dataframe thead th {\n",
       "        text-align: right;\n",
       "    }\n",
       "</style>\n",
       "<table border=\"1\" class=\"dataframe\">\n",
       "  <thead>\n",
       "    <tr style=\"text-align: right;\">\n",
       "      <th></th>\n",
       "      <th>employee_id</th>\n",
       "      <th>department</th>\n",
       "      <th>region</th>\n",
       "      <th>education</th>\n",
       "      <th>gender</th>\n",
       "      <th>recruitment_channel</th>\n",
       "      <th>no_of_trainings</th>\n",
       "      <th>age</th>\n",
       "      <th>previous_year_rating</th>\n",
       "      <th>length_of_service</th>\n",
       "      <th>KPIs_met &gt;80%</th>\n",
       "      <th>awards_won</th>\n",
       "      <th>avg_training_score</th>\n",
       "      <th>is_promoted</th>\n",
       "    </tr>\n",
       "  </thead>\n",
       "  <tbody>\n",
       "    <tr>\n",
       "      <th>0</th>\n",
       "      <td>65438</td>\n",
       "      <td>SalesMarketing</td>\n",
       "      <td>region_7</td>\n",
       "      <td>Masters</td>\n",
       "      <td>f</td>\n",
       "      <td>sourcing</td>\n",
       "      <td>1</td>\n",
       "      <td>35</td>\n",
       "      <td>5</td>\n",
       "      <td>8</td>\n",
       "      <td>1</td>\n",
       "      <td>0</td>\n",
       "      <td>49</td>\n",
       "      <td>0</td>\n",
       "    </tr>\n",
       "    <tr>\n",
       "      <th>1</th>\n",
       "      <td>65141</td>\n",
       "      <td>Operations</td>\n",
       "      <td>region_22</td>\n",
       "      <td>Bachelors</td>\n",
       "      <td>m</td>\n",
       "      <td>other</td>\n",
       "      <td>1</td>\n",
       "      <td>30</td>\n",
       "      <td>5</td>\n",
       "      <td>4</td>\n",
       "      <td>0</td>\n",
       "      <td>0</td>\n",
       "      <td>60</td>\n",
       "      <td>0</td>\n",
       "    </tr>\n",
       "    <tr>\n",
       "      <th>2</th>\n",
       "      <td>7513</td>\n",
       "      <td>SalesMarketing</td>\n",
       "      <td>region_19</td>\n",
       "      <td>Bachelors</td>\n",
       "      <td>m</td>\n",
       "      <td>sourcing</td>\n",
       "      <td>1</td>\n",
       "      <td>34</td>\n",
       "      <td>3</td>\n",
       "      <td>7</td>\n",
       "      <td>0</td>\n",
       "      <td>0</td>\n",
       "      <td>50</td>\n",
       "      <td>0</td>\n",
       "    </tr>\n",
       "    <tr>\n",
       "      <th>3</th>\n",
       "      <td>2542</td>\n",
       "      <td>SalesMarketing</td>\n",
       "      <td>region_23</td>\n",
       "      <td>Bachelors</td>\n",
       "      <td>m</td>\n",
       "      <td>other</td>\n",
       "      <td>2</td>\n",
       "      <td>39</td>\n",
       "      <td>1</td>\n",
       "      <td>10</td>\n",
       "      <td>0</td>\n",
       "      <td>0</td>\n",
       "      <td>50</td>\n",
       "      <td>0</td>\n",
       "    </tr>\n",
       "    <tr>\n",
       "      <th>4</th>\n",
       "      <td>48945</td>\n",
       "      <td>Technology</td>\n",
       "      <td>region_26</td>\n",
       "      <td>Bachelors</td>\n",
       "      <td>m</td>\n",
       "      <td>other</td>\n",
       "      <td>1</td>\n",
       "      <td>45</td>\n",
       "      <td>3</td>\n",
       "      <td>2</td>\n",
       "      <td>0</td>\n",
       "      <td>0</td>\n",
       "      <td>73</td>\n",
       "      <td>0</td>\n",
       "    </tr>\n",
       "  </tbody>\n",
       "</table>\n",
       "</div>"
      ],
      "text/plain": [
       "   employee_id      department     region  education gender  \\\n",
       "0        65438  SalesMarketing   region_7    Masters      f   \n",
       "1        65141      Operations  region_22  Bachelors      m   \n",
       "2         7513  SalesMarketing  region_19  Bachelors      m   \n",
       "3         2542  SalesMarketing  region_23  Bachelors      m   \n",
       "4        48945      Technology  region_26  Bachelors      m   \n",
       "\n",
       "  recruitment_channel  no_of_trainings  age  previous_year_rating  \\\n",
       "0            sourcing                1   35                     5   \n",
       "1               other                1   30                     5   \n",
       "2            sourcing                1   34                     3   \n",
       "3               other                2   39                     1   \n",
       "4               other                1   45                     3   \n",
       "\n",
       "   length_of_service  KPIs_met >80%  awards_won  avg_training_score  \\\n",
       "0                  8              1           0                  49   \n",
       "1                  4              0           0                  60   \n",
       "2                  7              0           0                  50   \n",
       "3                 10              0           0                  50   \n",
       "4                  2              0           0                  73   \n",
       "\n",
       "   is_promoted  \n",
       "0            0  \n",
       "1            0  \n",
       "2            0  \n",
       "3            0  \n",
       "4            0  "
      ]
     },
     "execution_count": 2,
     "metadata": {},
     "output_type": "execute_result"
    }
   ],
   "source": [
    "employee = pd.read_csv('employee.csv')\n",
    "employee.head()"
   ]
  },
  {
   "cell_type": "code",
   "execution_count": 3,
   "metadata": {},
   "outputs": [
    {
     "data": {
      "text/plain": [
       "(54808, 14)"
      ]
     },
     "execution_count": 3,
     "metadata": {},
     "output_type": "execute_result"
    }
   ],
   "source": [
    "employee.shape"
   ]
  },
  {
   "cell_type": "code",
   "execution_count": 4,
   "metadata": {},
   "outputs": [
    {
     "data": {
      "text/plain": [
       "employee_id             0\n",
       "department              0\n",
       "region                  0\n",
       "education               0\n",
       "gender                  0\n",
       "recruitment_channel     0\n",
       "no_of_trainings         0\n",
       "age                     0\n",
       "previous_year_rating    0\n",
       "length_of_service       0\n",
       "KPIs_met >80%           0\n",
       "awards_won              0\n",
       "avg_training_score      0\n",
       "is_promoted             0\n",
       "dtype: int64"
      ]
     },
     "execution_count": 4,
     "metadata": {},
     "output_type": "execute_result"
    }
   ],
   "source": [
    "employee.isnull().sum()"
   ]
  },
  {
   "cell_type": "code",
   "execution_count": 5,
   "metadata": {},
   "outputs": [
    {
     "name": "stdout",
     "output_type": "stream",
     "text": [
      "<class 'pandas.core.frame.DataFrame'>\n",
      "RangeIndex: 54808 entries, 0 to 54807\n",
      "Data columns (total 14 columns):\n",
      "employee_id             54808 non-null int64\n",
      "department              54808 non-null object\n",
      "region                  54808 non-null object\n",
      "education               54808 non-null object\n",
      "gender                  54808 non-null object\n",
      "recruitment_channel     54808 non-null object\n",
      "no_of_trainings         54808 non-null int64\n",
      "age                     54808 non-null int64\n",
      "previous_year_rating    54808 non-null int64\n",
      "length_of_service       54808 non-null int64\n",
      "KPIs_met >80%           54808 non-null int64\n",
      "awards_won              54808 non-null int64\n",
      "avg_training_score      54808 non-null int64\n",
      "is_promoted             54808 non-null int64\n",
      "dtypes: int64(9), object(5)\n",
      "memory usage: 5.9+ MB\n"
     ]
    }
   ],
   "source": [
    "employee.info()"
   ]
  },
  {
   "cell_type": "markdown",
   "metadata": {},
   "source": [
    "The columns like `no_of_trainings, previous_year_rating , KPIs_met >80% , awards_won` are actualy categorical but given in the interger format ,so these columns need to be converted as objects."
   ]
  },
  {
   "cell_type": "markdown",
   "metadata": {},
   "source": [
    "### Converting numerical data into categorical"
   ]
  },
  {
   "cell_type": "code",
   "execution_count": 6,
   "metadata": {},
   "outputs": [],
   "source": [
    "list_int_obj = ['no_of_trainings','previous_year_rating','KPIs_met >80%','awards_won']\n",
    "for col in list_int_obj:\n",
    "    employee[col] = employee[col].apply(lambda x: str(x))"
   ]
  },
  {
   "cell_type": "code",
   "execution_count": 7,
   "metadata": {},
   "outputs": [
    {
     "name": "stdout",
     "output_type": "stream",
     "text": [
      "<class 'pandas.core.frame.DataFrame'>\n",
      "RangeIndex: 54808 entries, 0 to 54807\n",
      "Data columns (total 14 columns):\n",
      "employee_id             54808 non-null int64\n",
      "department              54808 non-null object\n",
      "region                  54808 non-null object\n",
      "education               54808 non-null object\n",
      "gender                  54808 non-null object\n",
      "recruitment_channel     54808 non-null object\n",
      "no_of_trainings         54808 non-null object\n",
      "age                     54808 non-null int64\n",
      "previous_year_rating    54808 non-null object\n",
      "length_of_service       54808 non-null int64\n",
      "KPIs_met >80%           54808 non-null object\n",
      "awards_won              54808 non-null object\n",
      "avg_training_score      54808 non-null int64\n",
      "is_promoted             54808 non-null int64\n",
      "dtypes: int64(5), object(9)\n",
      "memory usage: 5.9+ MB\n"
     ]
    }
   ],
   "source": [
    "employee.info()"
   ]
  },
  {
   "cell_type": "markdown",
   "metadata": {},
   "source": [
    "### Five point summary for continuous and categorical data"
   ]
  },
  {
   "cell_type": "code",
   "execution_count": 8,
   "metadata": {},
   "outputs": [
    {
     "data": {
      "text/html": [
       "<div>\n",
       "<style scoped>\n",
       "    .dataframe tbody tr th:only-of-type {\n",
       "        vertical-align: middle;\n",
       "    }\n",
       "\n",
       "    .dataframe tbody tr th {\n",
       "        vertical-align: top;\n",
       "    }\n",
       "\n",
       "    .dataframe thead th {\n",
       "        text-align: right;\n",
       "    }\n",
       "</style>\n",
       "<table border=\"1\" class=\"dataframe\">\n",
       "  <thead>\n",
       "    <tr style=\"text-align: right;\">\n",
       "      <th></th>\n",
       "      <th>employee_id</th>\n",
       "      <th>age</th>\n",
       "      <th>length_of_service</th>\n",
       "      <th>avg_training_score</th>\n",
       "      <th>is_promoted</th>\n",
       "    </tr>\n",
       "  </thead>\n",
       "  <tbody>\n",
       "    <tr>\n",
       "      <th>count</th>\n",
       "      <td>54808.000000</td>\n",
       "      <td>54808.000000</td>\n",
       "      <td>54808.000000</td>\n",
       "      <td>54808.000000</td>\n",
       "      <td>54808.000000</td>\n",
       "    </tr>\n",
       "    <tr>\n",
       "      <th>mean</th>\n",
       "      <td>39195.830627</td>\n",
       "      <td>34.803915</td>\n",
       "      <td>5.865512</td>\n",
       "      <td>63.386750</td>\n",
       "      <td>0.085170</td>\n",
       "    </tr>\n",
       "    <tr>\n",
       "      <th>std</th>\n",
       "      <td>22586.581449</td>\n",
       "      <td>7.660169</td>\n",
       "      <td>4.265094</td>\n",
       "      <td>13.371559</td>\n",
       "      <td>0.279137</td>\n",
       "    </tr>\n",
       "    <tr>\n",
       "      <th>min</th>\n",
       "      <td>1.000000</td>\n",
       "      <td>20.000000</td>\n",
       "      <td>1.000000</td>\n",
       "      <td>39.000000</td>\n",
       "      <td>0.000000</td>\n",
       "    </tr>\n",
       "    <tr>\n",
       "      <th>25%</th>\n",
       "      <td>19669.750000</td>\n",
       "      <td>29.000000</td>\n",
       "      <td>3.000000</td>\n",
       "      <td>51.000000</td>\n",
       "      <td>0.000000</td>\n",
       "    </tr>\n",
       "    <tr>\n",
       "      <th>50%</th>\n",
       "      <td>39225.500000</td>\n",
       "      <td>33.000000</td>\n",
       "      <td>5.000000</td>\n",
       "      <td>60.000000</td>\n",
       "      <td>0.000000</td>\n",
       "    </tr>\n",
       "    <tr>\n",
       "      <th>75%</th>\n",
       "      <td>58730.500000</td>\n",
       "      <td>39.000000</td>\n",
       "      <td>7.000000</td>\n",
       "      <td>76.000000</td>\n",
       "      <td>0.000000</td>\n",
       "    </tr>\n",
       "    <tr>\n",
       "      <th>max</th>\n",
       "      <td>78298.000000</td>\n",
       "      <td>60.000000</td>\n",
       "      <td>37.000000</td>\n",
       "      <td>99.000000</td>\n",
       "      <td>1.000000</td>\n",
       "    </tr>\n",
       "  </tbody>\n",
       "</table>\n",
       "</div>"
      ],
      "text/plain": [
       "        employee_id           age  length_of_service  avg_training_score  \\\n",
       "count  54808.000000  54808.000000       54808.000000        54808.000000   \n",
       "mean   39195.830627     34.803915           5.865512           63.386750   \n",
       "std    22586.581449      7.660169           4.265094           13.371559   \n",
       "min        1.000000     20.000000           1.000000           39.000000   \n",
       "25%    19669.750000     29.000000           3.000000           51.000000   \n",
       "50%    39225.500000     33.000000           5.000000           60.000000   \n",
       "75%    58730.500000     39.000000           7.000000           76.000000   \n",
       "max    78298.000000     60.000000          37.000000           99.000000   \n",
       "\n",
       "        is_promoted  \n",
       "count  54808.000000  \n",
       "mean       0.085170  \n",
       "std        0.279137  \n",
       "min        0.000000  \n",
       "25%        0.000000  \n",
       "50%        0.000000  \n",
       "75%        0.000000  \n",
       "max        1.000000  "
      ]
     },
     "execution_count": 8,
     "metadata": {},
     "output_type": "execute_result"
    }
   ],
   "source": [
    "employee.describe()"
   ]
  },
  {
   "cell_type": "code",
   "execution_count": 9,
   "metadata": {},
   "outputs": [
    {
     "data": {
      "text/html": [
       "<div>\n",
       "<style scoped>\n",
       "    .dataframe tbody tr th:only-of-type {\n",
       "        vertical-align: middle;\n",
       "    }\n",
       "\n",
       "    .dataframe tbody tr th {\n",
       "        vertical-align: top;\n",
       "    }\n",
       "\n",
       "    .dataframe thead th {\n",
       "        text-align: right;\n",
       "    }\n",
       "</style>\n",
       "<table border=\"1\" class=\"dataframe\">\n",
       "  <thead>\n",
       "    <tr style=\"text-align: right;\">\n",
       "      <th></th>\n",
       "      <th>count</th>\n",
       "      <th>unique</th>\n",
       "      <th>top</th>\n",
       "      <th>freq</th>\n",
       "    </tr>\n",
       "  </thead>\n",
       "  <tbody>\n",
       "    <tr>\n",
       "      <th>department</th>\n",
       "      <td>54808</td>\n",
       "      <td>9</td>\n",
       "      <td>SalesMarketing</td>\n",
       "      <td>16840</td>\n",
       "    </tr>\n",
       "    <tr>\n",
       "      <th>region</th>\n",
       "      <td>54808</td>\n",
       "      <td>34</td>\n",
       "      <td>region_2</td>\n",
       "      <td>12343</td>\n",
       "    </tr>\n",
       "    <tr>\n",
       "      <th>education</th>\n",
       "      <td>54808</td>\n",
       "      <td>4</td>\n",
       "      <td>Bachelors</td>\n",
       "      <td>36669</td>\n",
       "    </tr>\n",
       "    <tr>\n",
       "      <th>gender</th>\n",
       "      <td>54808</td>\n",
       "      <td>2</td>\n",
       "      <td>m</td>\n",
       "      <td>38496</td>\n",
       "    </tr>\n",
       "    <tr>\n",
       "      <th>recruitment_channel</th>\n",
       "      <td>54808</td>\n",
       "      <td>3</td>\n",
       "      <td>other</td>\n",
       "      <td>30446</td>\n",
       "    </tr>\n",
       "    <tr>\n",
       "      <th>no_of_trainings</th>\n",
       "      <td>54808</td>\n",
       "      <td>10</td>\n",
       "      <td>1</td>\n",
       "      <td>44378</td>\n",
       "    </tr>\n",
       "    <tr>\n",
       "      <th>previous_year_rating</th>\n",
       "      <td>54808</td>\n",
       "      <td>6</td>\n",
       "      <td>3</td>\n",
       "      <td>18618</td>\n",
       "    </tr>\n",
       "    <tr>\n",
       "      <th>KPIs_met &gt;80%</th>\n",
       "      <td>54808</td>\n",
       "      <td>2</td>\n",
       "      <td>0</td>\n",
       "      <td>35517</td>\n",
       "    </tr>\n",
       "    <tr>\n",
       "      <th>awards_won</th>\n",
       "      <td>54808</td>\n",
       "      <td>2</td>\n",
       "      <td>0</td>\n",
       "      <td>53538</td>\n",
       "    </tr>\n",
       "  </tbody>\n",
       "</table>\n",
       "</div>"
      ],
      "text/plain": [
       "                      count unique             top   freq\n",
       "department            54808      9  SalesMarketing  16840\n",
       "region                54808     34        region_2  12343\n",
       "education             54808      4       Bachelors  36669\n",
       "gender                54808      2               m  38496\n",
       "recruitment_channel   54808      3           other  30446\n",
       "no_of_trainings       54808     10               1  44378\n",
       "previous_year_rating  54808      6               3  18618\n",
       "KPIs_met >80%         54808      2               0  35517\n",
       "awards_won            54808      2               0  53538"
      ]
     },
     "execution_count": 9,
     "metadata": {},
     "output_type": "execute_result"
    }
   ],
   "source": [
    "employee.describe(include='object').T"
   ]
  },
  {
   "cell_type": "code",
   "execution_count": 10,
   "metadata": {},
   "outputs": [
    {
     "data": {
      "text/plain": [
       "54808"
      ]
     },
     "execution_count": 10,
     "metadata": {},
     "output_type": "execute_result"
    }
   ],
   "source": [
    "len(employee.employee_id.unique())"
   ]
  },
  {
   "cell_type": "markdown",
   "metadata": {},
   "source": [
    "### Checking for data imbalance"
   ]
  },
  {
   "cell_type": "code",
   "execution_count": 11,
   "metadata": {},
   "outputs": [
    {
     "data": {
      "image/png": "[encoded data removed]",
      "text/plain": [
       "<Figure size 432x288 with 1 Axes>"
      ]
     },
     "metadata": {
      "needs_background": "light"
     },
     "output_type": "display_data"
    }
   ],
   "source": [
    "sns.countplot(employee['is_promoted'])\n",
    "plt.show()"
   ]
  },
  {
   "cell_type": "code",
   "execution_count": 12,
   "metadata": {},
   "outputs": [
    {
     "data": {
      "text/plain": [
       "0    0.91483\n",
       "1    0.08517\n",
       "Name: is_promoted, dtype: float64"
      ]
     },
     "execution_count": 12,
     "metadata": {},
     "output_type": "execute_result"
    }
   ],
   "source": [
    "employee['is_promoted'].value_counts(normalize=True)"
   ]
  },
  {
   "cell_type": "markdown",
   "metadata": {},
   "source": [
    "### EDA"
   ]
  },
  {
   "cell_type": "code",
   "execution_count": 13,
   "metadata": {},
   "outputs": [
    {
     "data": {
      "image/png": "[encoded data removed]",
      "text/plain": [
       "<Figure size 864x576 with 1 Axes>"
      ]
     },
     "metadata": {
      "needs_background": "light"
     },
     "output_type": "display_data"
    }
   ],
   "source": [
    "fig = plt.figure(figsize=(12,8))\n",
    "sns.countplot(employee['department'],hue=employee['is_promoted'])\n",
    "plt.show()"
   ]
  },
  {
   "cell_type": "code",
   "execution_count": 14,
   "metadata": {},
   "outputs": [
    {
     "data": {
      "image/png": "[encoded data removed]",
      "text/plain": [
       "<Figure size 432x288 with 1 Axes>"
      ]
     },
     "metadata": {
      "needs_background": "light"
     },
     "output_type": "display_data"
    },
    {
     "data": {
      "image/png": "[encoded data removed]",
      "text/plain": [
       "<Figure size 432x288 with 1 Axes>"
      ]
     },
     "metadata": {
      "needs_background": "light"
     },
     "output_type": "display_data"
    },
    {
     "data": {
      "image/png": "[encoded data removed]",
      "text/plain": [
       "<Figure size 432x288 with 1 Axes>"
      ]
     },
     "metadata": {
      "needs_background": "light"
     },
     "output_type": "display_data"
    }
   ],
   "source": [
    "sns.distplot(employee['age'])\n",
    "plt.show()\n",
    "sns.distplot(employee['length_of_service'])\n",
    "plt.show()\n",
    "sns.distplot(employee['avg_training_score'])\n",
    "plt.show()"
   ]
  },
  {
   "cell_type": "markdown",
   "metadata": {},
   "source": [
    "### Doing T-test for continuous variables"
   ]
  },
  {
   "cell_type": "markdown",
   "metadata": {},
   "source": [
    "### (I) T-test for age variable:"
   ]
  },
  {
   "cell_type": "markdown",
   "metadata": {},
   "source": [
    "#### Step 1: Defining the data"
   ]
  },
  {
   "cell_type": "code",
   "execution_count": 15,
   "metadata": {},
   "outputs": [],
   "source": [
    "age_promoted = employee[employee['is_promoted'] == 1]['age']\n",
    "age_notpromoted = employee[employee['is_promoted'] == 0]['age']"
   ]
  },
  {
   "cell_type": "code",
   "execution_count": 16,
   "metadata": {},
   "outputs": [
    {
     "data": {
      "image/png": "[encoded data removed]",
      "text/plain": [
       "<Figure size 432x288 with 1 Axes>"
      ]
     },
     "metadata": {
      "needs_background": "light"
     },
     "output_type": "display_data"
    },
    {
     "data": {
      "image/png": "[encoded data removed]",
      "text/plain": [
       "<Figure size 432x288 with 1 Axes>"
      ]
     },
     "metadata": {
      "needs_background": "light"
     },
     "output_type": "display_data"
    }
   ],
   "source": [
    "sns.distplot(age_promoted)\n",
    "plt.show()\n",
    "sns.distplot(age_notpromoted)\n",
    "plt.show()"
   ]
  },
  {
   "cell_type": "code",
   "execution_count": 17,
   "metadata": {},
   "outputs": [
    {
     "data": {
      "text/plain": [
       "(0.9257461428642273, 3.4752201915255463e-43)"
      ]
     },
     "execution_count": 17,
     "metadata": {},
     "output_type": "execute_result"
    }
   ],
   "source": [
    "# For checking Normality distribution of each distribution\n",
    "# Null Hypothesis: Distribution is Normal\n",
    "stats.shapiro(age_promoted)"
   ]
  },
  {
   "cell_type": "code",
   "execution_count": 18,
   "metadata": {},
   "outputs": [
    {
     "data": {
      "text/plain": [
       "(0.9315153956413269, 0.0)"
      ]
     },
     "execution_count": 18,
     "metadata": {},
     "output_type": "execute_result"
    }
   ],
   "source": [
    "# For checking Normality distribution of each distribution\n",
    "# Null Hypothesis: Distribution is Normal\n",
    "stats.shapiro(age_notpromoted)"
   ]
  },
  {
   "cell_type": "markdown",
   "metadata": {},
   "source": [
    "`Age` variable for both promoted and not promoted are not normally distribution."
   ]
  },
  {
   "cell_type": "markdown",
   "metadata": {},
   "source": [
    "#### Step 2: Define null and alternative hypotheses\n",
    "\n",
    "In testing whether age of promoted employee and not-promoted employee are same,the null hypothesis states that mean age, $\\mu{P}$ equals $\\mu{NP}$. The alternative hypthesis states that the age is different for promoted employee and not-promoted employee, $\\mu{P}$ $\\neq$ $\\mu{NP}$\n",
    "\n",
    "* $H_0$: $\\mu{P}$ - $\\mu{NP}$ =      0\n",
    "* $H_A$: $\\mu{P}$ - $\\mu{NP}$ $\\neq$  0"
   ]
  },
  {
   "cell_type": "markdown",
   "metadata": {},
   "source": [
    "#### Step 3: Decide the significance level\n",
    "\n",
    "Here we select $\\alpha$ = 0.05."
   ]
  },
  {
   "cell_type": "markdown",
   "metadata": {},
   "source": [
    "#### Step 4: Calculate the p - value and test statistic\n",
    "\n",
    "** We use the scipy.stats.mannwhitneyu to calculate the two sample wilcoxcon test for the means of TWO INDEPENDENT samples of scores given the two sample observations. This function returns t statistic and two-tailed p value.**\n",
    "\n",
    "** This is a two-sided test for the null hypothesis that 2 independent samples have identical average (expected) values. This test assumes that the populations have identical variances.**"
   ]
  },
  {
   "cell_type": "code",
   "execution_count": 19,
   "metadata": {},
   "outputs": [
    {
     "name": "stdout",
     "output_type": "stream",
     "text": [
      "two-sample wilcoxon-test p-value= 0.005849077317965435\n"
     ]
    }
   ],
   "source": [
    "u, p_value = stats.mannwhitneyu(age_promoted,age_notpromoted)\n",
    "print (\"two-sample wilcoxon-test p-value=\", p_value)"
   ]
  },
  {
   "cell_type": "markdown",
   "metadata": {},
   "source": [
    "#### Step 5:  Decide to reject or accept null hypothesis\n",
    "\n",
    "In this example, p value is 0.005 and it is less than 5% level of significance\n",
    "\n",
    "So the statistical decision is to reject the null hypothesis at 5% level of significance.\n",
    "\n",
    "#### So there is a sufficient evidence  to reject the null hypothesis that the age of promoted employee and not-promoted employee are same."
   ]
  },
  {
   "cell_type": "markdown",
   "metadata": {},
   "source": [
    "### (II) T-test for length_of_service variable:"
   ]
  },
  {
   "cell_type": "markdown",
   "metadata": {},
   "source": [
    "#### Step 1: Defining the data"
   ]
  },
  {
   "cell_type": "code",
   "execution_count": 20,
   "metadata": {},
   "outputs": [],
   "source": [
    "length_of_service_promoted = employee[employee['is_promoted'] == 1]['length_of_service']\n",
    "length_of_service_notpromoted = employee[employee['is_promoted'] == 0]['length_of_service']"
   ]
  },
  {
   "cell_type": "code",
   "execution_count": 21,
   "metadata": {},
   "outputs": [
    {
     "data": {
      "image/png": "[encoded data removed]",
      "text/plain": [
       "<Figure size 432x288 with 1 Axes>"
      ]
     },
     "metadata": {
      "needs_background": "light"
     },
     "output_type": "display_data"
    },
    {
     "data": {
      "image/png": "[encoded data removed]",
      "text/plain": [
       "<Figure size 432x288 with 1 Axes>"
      ]
     },
     "metadata": {
      "needs_background": "light"
     },
     "output_type": "display_data"
    }
   ],
   "source": [
    "sns.distplot(length_of_service_promoted)\n",
    "plt.show()\n",
    "sns.distplot(length_of_service_notpromoted)\n",
    "plt.show()"
   ]
  },
  {
   "cell_type": "code",
   "execution_count": 22,
   "metadata": {},
   "outputs": [
    {
     "data": {
      "text/plain": [
       "(0.8679336309432983, 0.0)"
      ]
     },
     "execution_count": 22,
     "metadata": {},
     "output_type": "execute_result"
    }
   ],
   "source": [
    "# For checking Normality distribution of each distribution\n",
    "# Null Hypothesis: Distribution is Normal\n",
    "stats.shapiro(length_of_service_promoted)"
   ]
  },
  {
   "cell_type": "code",
   "execution_count": 23,
   "metadata": {},
   "outputs": [
    {
     "data": {
      "text/plain": [
       "(0.8533936738967896, 0.0)"
      ]
     },
     "execution_count": 23,
     "metadata": {},
     "output_type": "execute_result"
    }
   ],
   "source": [
    "# For checking Normality distribution of each distribution\n",
    "# Null Hypothesis: Distribution is Normal\n",
    "stats.shapiro(length_of_service_notpromoted)"
   ]
  },
  {
   "cell_type": "markdown",
   "metadata": {},
   "source": [
    "`Length of service` variable for both promoted and not-promoted is not normally dstributed."
   ]
  },
  {
   "cell_type": "markdown",
   "metadata": {},
   "source": [
    "#### Step 2: Define null and alternative hypotheses\n",
    "\n",
    "In testing whether length_of_service of promoted employee and not-promoted employee are same,the null hypothesis states that mean length_of_service, $\\mu{P}$ equals $\\mu{NP}$. The alternative hypthesis states that the length_of_service is different for promoted employee and not-promoted employee, $\\mu{P}$ $\\neq$ $\\mu{NP}$\n",
    "\n",
    "* $H_0$: $\\mu{P}$ - $\\mu{NP}$ =      0\n",
    "* $H_A$: $\\mu{P}$ - $\\mu{NP}$ $\\neq$  0"
   ]
  },
  {
   "cell_type": "markdown",
   "metadata": {},
   "source": [
    "#### Step 3: Decide the significance level\n",
    "\n",
    "Here we select $\\alpha$ = 0.05."
   ]
  },
  {
   "cell_type": "markdown",
   "metadata": {},
   "source": [
    "#### Step 4: Calculate the p - value and test statistic\n",
    "\n",
    "** We use the scipy.stats.mannwhitneyu to calculate the two sample wilcoxcon test for the means of TWO INDEPENDENT samples of scores given the two sample observations. This function returns t statistic and two-tailed p value.**\n",
    "\n",
    "** This is a two-sided test for the null hypothesis that 2 independent samples have identical average (expected) values. This test assumes that the populations have identical variances.**"
   ]
  },
  {
   "cell_type": "code",
   "execution_count": 24,
   "metadata": {},
   "outputs": [
    {
     "name": "stdout",
     "output_type": "stream",
     "text": [
      "two-sample wilcoxon-test p-value= 0.11906605474602755\n"
     ]
    }
   ],
   "source": [
    "u, p_value = stats.mannwhitneyu(length_of_service_promoted,length_of_service_notpromoted)\n",
    "print (\"two-sample wilcoxon-test p-value=\", p_value)"
   ]
  },
  {
   "cell_type": "markdown",
   "metadata": {},
   "source": [
    "#### Step 5:  Decide to reject or accept null hypothesis\n",
    "\n",
    "In this example, p value is 0.11 and it is more than 5% level of significance\n",
    "\n",
    "So the statistical decision is to accept the null hypothesis at 5% level of significance.\n",
    "\n",
    "#### So there is no sufficient evidence  to reject the null hypothesis that the length_of_service of promoted employee and not-promoted employee are same."
   ]
  },
  {
   "cell_type": "markdown",
   "metadata": {},
   "source": [
    "### (III) T-test for avg_training_score variable:"
   ]
  },
  {
   "cell_type": "markdown",
   "metadata": {},
   "source": [
    "#### Step 1: Definig the data"
   ]
  },
  {
   "cell_type": "code",
   "execution_count": 25,
   "metadata": {},
   "outputs": [],
   "source": [
    "avg_training_score_promoted = employee[employee['is_promoted'] == 1]['avg_training_score']\n",
    "avg_training_score_notpromoted = employee[employee['is_promoted'] == 0]['avg_training_score']"
   ]
  },
  {
   "cell_type": "code",
   "execution_count": 26,
   "metadata": {},
   "outputs": [
    {
     "data": {
      "image/png": "[encoded data removed]",
      "text/plain": [
       "<Figure size 432x288 with 1 Axes>"
      ]
     },
     "metadata": {
      "needs_background": "light"
     },
     "output_type": "display_data"
    },
    {
     "data": {
      "image/png": "[encoded data removed]",
      "text/plain": [
       "<Figure size 432x288 with 1 Axes>"
      ]
     },
     "metadata": {
      "needs_background": "light"
     },
     "output_type": "display_data"
    }
   ],
   "source": [
    "sns.distplot(avg_training_score_promoted)\n",
    "plt.show()\n",
    "sns.distplot(avg_training_score_notpromoted)\n",
    "plt.show()"
   ]
  },
  {
   "cell_type": "code",
   "execution_count": 27,
   "metadata": {},
   "outputs": [
    {
     "data": {
      "text/plain": [
       "(0.9609349966049194, 1.0201833535813428e-33)"
      ]
     },
     "execution_count": 27,
     "metadata": {},
     "output_type": "execute_result"
    }
   ],
   "source": [
    "# For checking Normality distribution of each distribution\n",
    "# Null Hypothesis: Distribution is Normal\n",
    "stats.shapiro(avg_training_score_promoted)"
   ]
  },
  {
   "cell_type": "code",
   "execution_count": 28,
   "metadata": {},
   "outputs": [
    {
     "data": {
      "text/plain": [
       "(0.920185387134552, 0.0)"
      ]
     },
     "execution_count": 28,
     "metadata": {},
     "output_type": "execute_result"
    }
   ],
   "source": [
    "# For checking Normality distribution of each distribution\n",
    "# Null Hypothesis: Distribution is Normal\n",
    "stats.shapiro(avg_training_score_notpromoted)"
   ]
  },
  {
   "cell_type": "markdown",
   "metadata": {},
   "source": [
    "`Avg training score` variable for both promoted and not promoted is not normally distributed."
   ]
  },
  {
   "cell_type": "markdown",
   "metadata": {},
   "source": [
    "#### Step 2: Define null and alternative hypotheses\n",
    "\n",
    "In testing whether avg_training_score of promoted employee and not-promoted employee are same,the null hypothesis states that mean avg_training_score, $\\mu{P}$ equals $\\mu{NP}$. The alternative hypthesis states that the avg_training_score is different for promoted employee and not-promoted employee, $\\mu{P}$ $\\neq$ $\\mu{NP}$\n",
    "\n",
    "* $H_0$: $\\mu{P}$ - $\\mu{NP}$ =      0\n",
    "* $H_A$: $\\mu{P}$ - $\\mu{NP}$ $\\neq$  0"
   ]
  },
  {
   "cell_type": "markdown",
   "metadata": {},
   "source": [
    "#### Step 3: Decide the significance level\n",
    "\n",
    "Here we select $\\alpha$ = 0.05."
   ]
  },
  {
   "cell_type": "markdown",
   "metadata": {},
   "source": [
    "#### Step 4: Calculate the p - value and test statistic\n",
    "\n",
    "** We use the scipy.stats.mannwhitneyu to calculate the two sample wilcoxcon test for the means of TWO INDEPENDENT samples of scores given the two sample observations. This function returns t statistic and two-tailed p value.**\n",
    "\n",
    "** This is a two-sided test for the null hypothesis that 2 independent samples have identical average (expected) values. This test assumes that the populations have identical variances.**"
   ]
  },
  {
   "cell_type": "code",
   "execution_count": 29,
   "metadata": {},
   "outputs": [
    {
     "name": "stdout",
     "output_type": "stream",
     "text": [
      "two-sample wilcoxon-test p-value= 0.0\n"
     ]
    }
   ],
   "source": [
    "u, p_value = stats.mannwhitneyu(avg_training_score_promoted,avg_training_score_notpromoted)\n",
    "print (\"two-sample wilcoxon-test p-value=\", p_value)"
   ]
  },
  {
   "cell_type": "markdown",
   "metadata": {},
   "source": [
    "#### Step 5:  Decide to reject or accept null hypothesis\n",
    "\n",
    "In this example, p value is 0.0 and it is less than 5% level of significance\n",
    "\n",
    "So the statistical decision is to reject the null hypothesis at 5% level of significance.\n",
    "\n",
    "#### So there is a sufficient evidence  to reject the null hypothesis that the age of promoted employee and not-promoted employee are same."
   ]
  },
  {
   "cell_type": "markdown",
   "metadata": {},
   "source": [
    "### Covariance analysis"
   ]
  },
  {
   "cell_type": "code",
   "execution_count": 30,
   "metadata": {},
   "outputs": [
    {
     "data": {
      "text/html": [
       "<div>\n",
       "<style scoped>\n",
       "    .dataframe tbody tr th:only-of-type {\n",
       "        vertical-align: middle;\n",
       "    }\n",
       "\n",
       "    .dataframe tbody tr th {\n",
       "        vertical-align: top;\n",
       "    }\n",
       "\n",
       "    .dataframe thead th {\n",
       "        text-align: right;\n",
       "    }\n",
       "</style>\n",
       "<table border=\"1\" class=\"dataframe\">\n",
       "  <thead>\n",
       "    <tr style=\"text-align: right;\">\n",
       "      <th></th>\n",
       "      <th>employee_id</th>\n",
       "      <th>age</th>\n",
       "      <th>length_of_service</th>\n",
       "      <th>avg_training_score</th>\n",
       "      <th>is_promoted</th>\n",
       "    </tr>\n",
       "  </thead>\n",
       "  <tbody>\n",
       "    <tr>\n",
       "      <th>employee_id</th>\n",
       "      <td>1.000000</td>\n",
       "      <td>0.000437</td>\n",
       "      <td>0.001274</td>\n",
       "      <td>-0.000586</td>\n",
       "      <td>0.001206</td>\n",
       "    </tr>\n",
       "    <tr>\n",
       "      <th>age</th>\n",
       "      <td>0.000437</td>\n",
       "      <td>1.000000</td>\n",
       "      <td>0.657111</td>\n",
       "      <td>-0.048380</td>\n",
       "      <td>-0.017166</td>\n",
       "    </tr>\n",
       "    <tr>\n",
       "      <th>length_of_service</th>\n",
       "      <td>0.001274</td>\n",
       "      <td>0.657111</td>\n",
       "      <td>1.000000</td>\n",
       "      <td>-0.038122</td>\n",
       "      <td>-0.010670</td>\n",
       "    </tr>\n",
       "    <tr>\n",
       "      <th>avg_training_score</th>\n",
       "      <td>-0.000586</td>\n",
       "      <td>-0.048380</td>\n",
       "      <td>-0.038122</td>\n",
       "      <td>1.000000</td>\n",
       "      <td>0.181147</td>\n",
       "    </tr>\n",
       "    <tr>\n",
       "      <th>is_promoted</th>\n",
       "      <td>0.001206</td>\n",
       "      <td>-0.017166</td>\n",
       "      <td>-0.010670</td>\n",
       "      <td>0.181147</td>\n",
       "      <td>1.000000</td>\n",
       "    </tr>\n",
       "  </tbody>\n",
       "</table>\n",
       "</div>"
      ],
      "text/plain": [
       "                    employee_id       age  length_of_service  \\\n",
       "employee_id            1.000000  0.000437           0.001274   \n",
       "age                    0.000437  1.000000           0.657111   \n",
       "length_of_service      0.001274  0.657111           1.000000   \n",
       "avg_training_score    -0.000586 -0.048380          -0.038122   \n",
       "is_promoted            0.001206 -0.017166          -0.010670   \n",
       "\n",
       "                    avg_training_score  is_promoted  \n",
       "employee_id                  -0.000586     0.001206  \n",
       "age                          -0.048380    -0.017166  \n",
       "length_of_service            -0.038122    -0.010670  \n",
       "avg_training_score            1.000000     0.181147  \n",
       "is_promoted                   0.181147     1.000000  "
      ]
     },
     "execution_count": 30,
     "metadata": {},
     "output_type": "execute_result"
    }
   ],
   "source": [
    "corr_matrix = employee.corr()\n",
    "corr_matrix"
   ]
  },
  {
   "cell_type": "code",
   "execution_count": 31,
   "metadata": {},
   "outputs": [
    {
     "data": {
      "text/html": [
       "<div>\n",
       "<style scoped>\n",
       "    .dataframe tbody tr th:only-of-type {\n",
       "        vertical-align: middle;\n",
       "    }\n",
       "\n",
       "    .dataframe tbody tr th {\n",
       "        vertical-align: top;\n",
       "    }\n",
       "\n",
       "    .dataframe thead th {\n",
       "        text-align: right;\n",
       "    }\n",
       "</style>\n",
       "<table border=\"1\" class=\"dataframe\">\n",
       "  <thead>\n",
       "    <tr style=\"text-align: right;\">\n",
       "      <th></th>\n",
       "      <th>employee_id</th>\n",
       "      <th>age</th>\n",
       "      <th>length_of_service</th>\n",
       "      <th>avg_training_score</th>\n",
       "    </tr>\n",
       "  </thead>\n",
       "  <tbody>\n",
       "    <tr>\n",
       "      <th>employee_id</th>\n",
       "      <td>1.000000</td>\n",
       "      <td>0.013480</td>\n",
       "      <td>-0.008551</td>\n",
       "      <td>0.011601</td>\n",
       "    </tr>\n",
       "    <tr>\n",
       "      <th>age</th>\n",
       "      <td>0.013480</td>\n",
       "      <td>1.000000</td>\n",
       "      <td>0.652862</td>\n",
       "      <td>-0.048902</td>\n",
       "    </tr>\n",
       "    <tr>\n",
       "      <th>length_of_service</th>\n",
       "      <td>-0.008551</td>\n",
       "      <td>0.652862</td>\n",
       "      <td>1.000000</td>\n",
       "      <td>-0.029786</td>\n",
       "    </tr>\n",
       "    <tr>\n",
       "      <th>avg_training_score</th>\n",
       "      <td>0.011601</td>\n",
       "      <td>-0.048902</td>\n",
       "      <td>-0.029786</td>\n",
       "      <td>1.000000</td>\n",
       "    </tr>\n",
       "  </tbody>\n",
       "</table>\n",
       "</div>"
      ],
      "text/plain": [
       "                    employee_id       age  length_of_service  \\\n",
       "employee_id            1.000000  0.013480          -0.008551   \n",
       "age                    0.013480  1.000000           0.652862   \n",
       "length_of_service     -0.008551  0.652862           1.000000   \n",
       "avg_training_score     0.011601 -0.048902          -0.029786   \n",
       "\n",
       "                    avg_training_score  \n",
       "employee_id                   0.011601  \n",
       "age                          -0.048902  \n",
       "length_of_service            -0.029786  \n",
       "avg_training_score            1.000000  "
      ]
     },
     "execution_count": 31,
     "metadata": {},
     "output_type": "execute_result"
    }
   ],
   "source": [
    "promoted_df = employee[employee['is_promoted'] == 1]\n",
    "promoted_df.drop('is_promoted',1,inplace=True)\n",
    "promoted_corr_matrix = promoted_df.corr()\n",
    "promoted_corr_matrix"
   ]
  },
  {
   "cell_type": "code",
   "execution_count": 32,
   "metadata": {},
   "outputs": [
    {
     "data": {
      "text/html": [
       "<div>\n",
       "<style scoped>\n",
       "    .dataframe tbody tr th:only-of-type {\n",
       "        vertical-align: middle;\n",
       "    }\n",
       "\n",
       "    .dataframe tbody tr th {\n",
       "        vertical-align: top;\n",
       "    }\n",
       "\n",
       "    .dataframe thead th {\n",
       "        text-align: right;\n",
       "    }\n",
       "</style>\n",
       "<table border=\"1\" class=\"dataframe\">\n",
       "  <thead>\n",
       "    <tr style=\"text-align: right;\">\n",
       "      <th></th>\n",
       "      <th>employee_id</th>\n",
       "      <th>age</th>\n",
       "      <th>length_of_service</th>\n",
       "      <th>avg_training_score</th>\n",
       "    </tr>\n",
       "  </thead>\n",
       "  <tbody>\n",
       "    <tr>\n",
       "      <th>employee_id</th>\n",
       "      <td>1.000000</td>\n",
       "      <td>-0.000664</td>\n",
       "      <td>0.002150</td>\n",
       "      <td>-0.002142</td>\n",
       "    </tr>\n",
       "    <tr>\n",
       "      <th>age</th>\n",
       "      <td>-0.000664</td>\n",
       "      <td>1.000000</td>\n",
       "      <td>0.657405</td>\n",
       "      <td>-0.045852</td>\n",
       "    </tr>\n",
       "    <tr>\n",
       "      <th>length_of_service</th>\n",
       "      <td>0.002150</td>\n",
       "      <td>0.657405</td>\n",
       "      <td>1.000000</td>\n",
       "      <td>-0.037555</td>\n",
       "    </tr>\n",
       "    <tr>\n",
       "      <th>avg_training_score</th>\n",
       "      <td>-0.002142</td>\n",
       "      <td>-0.045852</td>\n",
       "      <td>-0.037555</td>\n",
       "      <td>1.000000</td>\n",
       "    </tr>\n",
       "  </tbody>\n",
       "</table>\n",
       "</div>"
      ],
      "text/plain": [
       "                    employee_id       age  length_of_service  \\\n",
       "employee_id            1.000000 -0.000664           0.002150   \n",
       "age                   -0.000664  1.000000           0.657405   \n",
       "length_of_service      0.002150  0.657405           1.000000   \n",
       "avg_training_score    -0.002142 -0.045852          -0.037555   \n",
       "\n",
       "                    avg_training_score  \n",
       "employee_id                  -0.002142  \n",
       "age                          -0.045852  \n",
       "length_of_service            -0.037555  \n",
       "avg_training_score            1.000000  "
      ]
     },
     "execution_count": 32,
     "metadata": {},
     "output_type": "execute_result"
    }
   ],
   "source": [
    "notpromoted_df = employee[employee['is_promoted'] == 0]\n",
    "notpromoted_df.drop('is_promoted',1,inplace=True)\n",
    "notpromoted_corr_matrix = notpromoted_df.corr()\n",
    "notpromoted_corr_matrix"
   ]
  },
  {
   "cell_type": "code",
   "execution_count": 33,
   "metadata": {},
   "outputs": [
    {
     "data": {
      "image/png": "[encoded data removed]",
      "text/plain": [
       "<Figure size 1152x720 with 7 Axes>"
      ]
     },
     "metadata": {
      "needs_background": "light"
     },
     "output_type": "display_data"
    }
   ],
   "source": [
    "fig, axes = plt.subplots(2, 2, figsize=(16, 10))\n",
    "sns.heatmap(employee.drop('is_promoted',1).corr(),annot=True,ax=axes[0,0])\n",
    "sns.heatmap(promoted_df.corr(),annot=True,ax=axes[0,1])\n",
    "sns.heatmap(notpromoted_df.corr(),annot=True,ax=axes[1,0])\n",
    "plt.show()"
   ]
  },
  {
   "cell_type": "code",
   "execution_count": null,
   "metadata": {},
   "outputs": [],
   "source": []
  }
 ],
 "metadata": {
  "kernelspec": {
   "display_name": "Python 3",
   "language": "python",
   "name": "python3"
  },
  "language_info": {
   "codemirror_mode": {
    "name": "ipython",
    "version": 3
   },
   "file_extension": ".py",
   "mimetype": "text/x-python",
   "name": "python",
   "nbconvert_exporter": "python",
   "pygments_lexer": "ipython3",
   "version": "3.5.6"
  }
 },
 "nbformat": 4,
 "nbformat_minor": 2
}
